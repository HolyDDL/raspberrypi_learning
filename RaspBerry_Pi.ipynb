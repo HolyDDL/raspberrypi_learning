{
 "cells": [
  {
   "cell_type": "markdown",
   "id": "0da6be14",
   "metadata": {},
   "source": [
    "# 树莓派使用"
   ]
  },
  {
   "cell_type": "markdown",
   "id": "5ae01619",
   "metadata": {},
   "source": [
    "## 配置树莓派"
   ]
  },
  {
   "cell_type": "markdown",
   "id": "c8d8feb0",
   "metadata": {},
   "source": [
    "### 下载系统"
   ]
  },
  {
   "cell_type": "markdown",
   "id": "72753b55",
   "metadata": {},
   "source": [
    "从官网上使用官方烧录工具将系统烧录到sd卡中"
   ]
  },
  {
   "cell_type": "markdown",
   "id": "4df5a2c6",
   "metadata": {},
   "source": [
    "需要在配置系统的时候在选项界面设置SSH服务. 设置用户名与密码"
   ]
  },
  {
   "cell_type": "markdown",
   "id": "81b199fe",
   "metadata": {},
   "source": [
    "### 外设连接"
   ]
  },
  {
   "cell_type": "markdown",
   "id": "2e318259",
   "metadata": {},
   "source": [
    "如果使用全部配套外设连接, 需要在全部连接完成后再连接电源"
   ]
  },
  {
   "cell_type": "markdown",
   "id": "97e57860",
   "metadata": {},
   "source": [
    "### 网线连接电脑"
   ]
  },
  {
   "cell_type": "markdown",
   "id": "1ed2f064",
   "metadata": {},
   "source": [
    "* 配置树莓派SSH协议\n",
    "\n",
    "    在树莓派系统sd卡中新建文件, rename为ssh, 去掉所有后缀\n"
   ]
  },
  {
   "cell_type": "markdown",
   "id": "b04cdb2f",
   "metadata": {},
   "source": [
    "###### 电脑配置(网线连接后)"
   ]
  },
  {
   "cell_type": "markdown",
   "id": "b82afd73",
   "metadata": {},
   "source": [
    "1. 共享网络\n",
    "\n",
    "    打开Windows设置-网络-更改适配器选项-选择WLAN-属性-共享-勾选'允许其他用户通过计算机的Internet来连接';\n",
    "\n"
   ]
  },
  {
   "cell_type": "markdown",
   "id": "5c9eef0a",
   "metadata": {},
   "source": [
    "2. 查找树莓派IP\n",
    "\n",
    "    Terminal窗口输入arp -a罗列所有的IP, 在网络适配选项中, 找到以太网连接, 找到网络协议IPV4, 双击打开, 查看IP(前12位为网段). 在所有IPlist中找到这个网段, 选择非.255子网, 随后使用 ping xxx.xxx.xxx.xxx尝试连接, 如有多个, 尝试找到能ping通的"
   ]
  },
  {
   "cell_type": "markdown",
   "id": "d0cf9f45",
   "metadata": {},
   "source": [
    "3. 连接IP\n",
    "\n",
    "    下载putty, 打开后粘贴IP以后点击打开按钮, 将会弹出树莓派terminal.提示log as输入树莓派默认id: pi, passwords默认为: raspberry "
   ]
  },
  {
   "cell_type": "markdown",
   "id": "e9f1a0b2",
   "metadata": {},
   "source": [
    "### 无线连接电脑"
   ]
  },
  {
   "cell_type": "markdown",
   "id": "15f0a8b9",
   "metadata": {},
   "source": [
    "1. 配置树莓派文件\n",
    "\n",
    "    电脑txt输入下列代码:(id改为笔记本热点名称, password改为热点密码)"
   ]
  },
  {
   "cell_type": "code",
   "execution_count": null,
   "id": "b2a846d4",
   "metadata": {},
   "outputs": [],
   "source": [
    "country=CN\n",
    "ctrl_interface=DIR=/var/run/wpa_supplicant GROUP=netdev\n",
    "update_config=1\n",
    "network={\n",
    "\tssid=\"id\"\n",
    "\tpsk=\"password\"\n",
    "\tpriority=10\n",
    "}"
   ]
  },
  {
   "cell_type": "markdown",
   "id": "a296b843",
   "metadata": {},
   "source": [
    "随后将代码文件重命名为wpa_supplicant.conf 并将之放入sd卡中."
   ]
  },
  {
   "cell_type": "markdown",
   "id": "3c913811",
   "metadata": {},
   "source": [
    "2. 树莓派下载软件\n",
    "\n",
    "    使用putty连接树莓派, 下载软件.命令如下:"
   ]
  },
  {
   "cell_type": "code",
   "execution_count": null,
   "id": "2381b357",
   "metadata": {},
   "outputs": [],
   "source": [
    "sudo apt-get install xrdp"
   ]
  },
  {
   "cell_type": "markdown",
   "id": "5ad3bfec",
   "metadata": {},
   "source": [
    "3. 连接树莓派\n",
    "    \n",
    "    使用Windows自带远程桌面访问, 就进入树莓派界面了"
   ]
  },
  {
   "cell_type": "markdown",
   "id": "420e0865",
   "metadata": {},
   "source": [
    "或者参考博客https://blog.csdn.net/qq_44214671/article/details/110581282\n",
    "\n",
    "使用VNC连接(密码全设置为'raspberry')\n",
    "\n",
    "需要连接网络.才可以ping网址"
   ]
  },
  {
   "cell_type": "markdown",
   "id": "2184feb2",
   "metadata": {},
   "source": [
    "## 树莓派命令集"
   ]
  },
  {
   "cell_type": "markdown",
   "id": "06d933d8",
   "metadata": {},
   "source": [
    "* 关机"
   ]
  },
  {
   "cell_type": "markdown",
   "id": "5c0b4b24",
   "metadata": {},
   "source": [
    "$sudo\\ poweroff$或者$sudo\\ shutdown\\ -h\\ now$(立刻关机)$sudo\\ shutdown\\ -r\\ now$(立刻重启)将$now$换成数字, 可以设置多少时间后执行(单位:min)"
   ]
  },
  {
   "cell_type": "code",
   "execution_count": null,
   "id": "df6bac51",
   "metadata": {},
   "outputs": [],
   "source": []
  }
 ],
 "metadata": {
  "kernelspec": {
   "display_name": "Python 3 (ipykernel)",
   "language": "python",
   "name": "python3"
  },
  "language_info": {
   "codemirror_mode": {
    "name": "ipython",
    "version": 3
   },
   "file_extension": ".py",
   "mimetype": "text/x-python",
   "name": "python",
   "nbconvert_exporter": "python",
   "pygments_lexer": "ipython3",
   "version": "3.9.2"
  }
 },
 "nbformat": 4,
 "nbformat_minor": 5
}
